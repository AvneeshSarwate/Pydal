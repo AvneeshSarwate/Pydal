{
 "cells": [
  {
   "cell_type": "code",
   "execution_count": 1,
   "metadata": {
    "collapsed": false
   },
   "outputs": [],
   "source": [
    "import PydalChanel as pydal\n",
    "\n",
    "\n",
    "read = pydal.read\n",
    "end = pydal.end\n",
    "\n",
    "ch1 = pydal.newChannel(1)\n",
    "ch2 = pydal.newChannel(2)\n",
    "ch3 = pydal.newChannel(3)\n",
    "ch4 = pydal.newChannel(4)\n",
    "ch5 = pydal.newChannel(5)"
   ]
  },
  {
   "cell_type": "code",
   "execution_count": 11,
   "metadata": {
    "collapsed": false
   },
   "outputs": [
    {
     "name": "stdout",
     "output_type": "stream",
     "text": [
      "angle [(0.0, set(['sn:2']))]\n",
      "angle [(0.0, set(['sn:2']))]\n",
      "angle [(0.0, set(['bin']))]\n",
      "angle [(0.0, set(['bin']))]\n",
      "angle [(0.0, set(['bin']))]\n",
      "angle [(0.0, set(['bin']))]\n",
      "angle [(0.0, set(['sn:2']))]\n",
      "angle [(0.0, set(['sn:2']))]\n",
      "angle [(0.0, set(['sn:2']))]\n",
      "angle [(0.0, set(['sn:2']))]\n",
      "angle [(0.0, set(['bin']))]\n",
      "angle [(0.0, set(['sn:2']))]\n",
      "angle [(0.0, set(['bin']))]\n",
      "angle [(0.0, set(['sn:2']))]\n",
      "angle [(0.0, set(['bin']))]\n"
     ]
    }
   ],
   "source": [
    "ch1.play(a)"
   ]
  },
  {
   "cell_type": "code",
   "execution_count": 12,
   "metadata": {
    "collapsed": true
   },
   "outputs": [],
   "source": [
    "ch1.stop()\n",
    "ch2.stop()"
   ]
  },
  {
   "cell_type": "code",
   "execution_count": 10,
   "metadata": {
    "collapsed": false
   },
   "outputs": [],
   "source": [
    "b = read(\"{bd:1 bd:3*2 ~, [bd:3*2, bd:4] ~ ~ bd:2 ~}\")\n",
    "a = read(\"[bd bd bd, bin <bin, sn:2>]\")\n",
    "c = read(\"bd {sn:3 sn:3, ht lt ht} hc\")\n",
    "d = read(\"[a a a <b, e c e e, d>]*4\")"
   ]
  },
  {
   "cell_type": "code",
   "execution_count": 6,
   "metadata": {
    "collapsed": false
   },
   "outputs": [
    {
     "name": "stdout",
     "output_type": "stream",
     "text": [
      "angle [(0.0, set(['e'])), (0.25, set(['c'])), (0.5, set(['e'])), (0.75, set(['e']))]\n",
      "angle [(0.0, set(['b']))]\n",
      "angle [(0.0, set(['e'])), (0.25, set(['c'])), (0.5, set(['e'])), (0.75, set(['e']))]\n",
      "angle [(0.0, set(['d']))]\n",
      "final ['a', 'a', 'a', 'e', 'c', 'e', 'e', 'a', 'a', 'a', 'b', 'a', 'a', 'a', 'e', 'c', 'e', 'e', 'a', 'a', 'a', 'd']\n"
     ]
    }
   ],
   "source": [
    "m = map(lambda e: list(e[1])[0], d.render())\n",
    "print \"final\", m"
   ]
  },
  {
   "cell_type": "code",
   "execution_count": null,
   "metadata": {
    "collapsed": false,
    "scrolled": true
   },
   "outputs": [],
   "source": [
    "for i in range(5):\n",
    "    t = lambda a: i\n",
    "    print t(\"A\")\n",
    "    "
   ]
  },
  {
   "cell_type": "code",
   "execution_count": null,
   "metadata": {
    "collapsed": false
   },
   "outputs": [],
   "source": [
    "f1(2,3)"
   ]
  }
 ],
 "metadata": {
  "kernelspec": {
   "display_name": "Python 2",
   "language": "python",
   "name": "python2"
  },
  "language_info": {
   "codemirror_mode": {
    "name": "ipython",
    "version": 2
   },
   "file_extension": ".py",
   "mimetype": "text/x-python",
   "name": "python",
   "nbconvert_exporter": "python",
   "pygments_lexer": "ipython2",
   "version": "2.7.10"
  }
 },
 "nbformat": 4,
 "nbformat_minor": 0
}
