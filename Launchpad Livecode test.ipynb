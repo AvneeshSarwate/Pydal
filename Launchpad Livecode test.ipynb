{
 "cells": [
  {
   "cell_type": "code",
   "execution_count": 1,
   "metadata": {
    "collapsed": false
   },
   "outputs": [],
   "source": [
    "from fh import FH \n",
    "import fh\n",
    "from treeBuilder import TreeBuilder as TB\n",
    "import PydalChanel as pydal\n",
    "\n",
    "lp = FH()\n",
    "oneHitShift = fh.oneHitShift\n",
    "\n",
    "read = pydal.read\n",
    "end = pydal.end\n",
    "\n",
    "ch1 = pydal.newChannel(1)\n",
    "ch2 = pydal.newChannel(2)\n",
    "ch3 = pydal.newChannel(3)\n",
    "ch4 = pydal.newChannel(4)\n",
    "ch5 = pydal.newChannel(5)\n",
    "\n",
    "idv = lambda a : a\n",
    "codec = lambda buf: fh.noteListToHitList(fh.flattenByBeat(fh.notesByBeat(fh.hitListToNoteList(buf))))"
   ]
  },
  {
   "cell_type": "code",
   "execution_count": 27,
   "metadata": {
    "collapsed": false
   },
   "outputs": [],
   "source": [
    "a = read(\"bd sn:3 sn:3 lt\")\n",
    "b = read(\"{bd*5 sn:2 bd sn:2, (bin bin, lt lt lt) ~ lt hc ~ ht}\")"
   ]
  },
  {
   "cell_type": "code",
   "execution_count": 29,
   "metadata": {
    "collapsed": true
   },
   "outputs": [],
   "source": [
    "ch1.play(a)"
   ]
  },
  {
   "cell_type": "code",
   "execution_count": 30,
   "metadata": {
    "collapsed": false
   },
   "outputs": [],
   "source": [
    "lp.startChannel(0, lambda buf: fh.randTranspose(buf, lp.roots[1], lp.scales[1], start=2, end=4), lp.loops[1][0])"
   ]
  },
  {
   "cell_type": "code",
   "execution_count": 31,
   "metadata": {
    "collapsed": false
   },
   "outputs": [],
   "source": [
    "lp.startChannel(1, lambda buf: fh.randTranspose(buf, lp.roots[1], lp.scales[1], start=2, end=4), lp.loops[0][0])"
   ]
  },
  {
   "cell_type": "code",
   "execution_count": 11,
   "metadata": {
    "collapsed": true
   },
   "outputs": [],
   "source": [
    "lp.stopChannel(0)"
   ]
  }
 ],
 "metadata": {
  "kernelspec": {
   "display_name": "Python 2",
   "language": "python",
   "name": "python2"
  },
  "language_info": {
   "codemirror_mode": {
    "name": "ipython",
    "version": 2
   },
   "file_extension": ".py",
   "mimetype": "text/x-python",
   "name": "python",
   "nbconvert_exporter": "python",
   "pygments_lexer": "ipython2",
   "version": "2.7.10"
  }
 },
 "nbformat": 4,
 "nbformat_minor": 0
}
