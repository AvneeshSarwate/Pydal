{
 "cells": [
  {
   "cell_type": "code",
   "execution_count": 1,
   "metadata": {
    "collapsed": false
   },
   "outputs": [],
   "source": [
    "from fh import FH \n",
    "import fh\n",
    "from treeBuilder import TreeBuilder as TB\n",
    "import PydalChanel as pydal\n",
    "import copy\n",
    "\n",
    "lp = FH()\n",
    "oneHitShift = fh.oneHitShift\n",
    "\n",
    "read = pydal.read\n",
    "end = pydal.end\n",
    "tempo = pydal.tempo\n",
    "rootScale = lp.rootScale\n",
    "stripSymbols = lambda beats : map(lambda beat : list(beat[1])[0], beats)\n",
    "\n",
    "ch1 = pydal.newChannel(1)\n",
    "ch2 = pydal.newChannel(2)\n",
    "ch3 = pydal.newChannel(3)\n",
    "ch4 = pydal.newChannel(4)\n",
    "ch5 = pydal.newChannel(5)\n",
    "\n",
    "idv = lambda a : a\n",
    "codec = lambda buf: fh.noteListToHitList(fh.flattenByBeat(fh.notesByBeat(fh.hitListToNoteList(buf))))"
   ]
  },
  {
   "cell_type": "code",
   "execution_count": null,
   "metadata": {
    "collapsed": false
   },
   "outputs": [],
   "source": [
    "a = read(\"{bd (lt*2, lt, lt), hc <~, sn hc> ~ hc:2}\")\n",
    "b = read(\"{(bd ~, sn:3 <~, cp>)}\")\n",
    "c = read(\"((bd:2*2, [bd:3 bd:3] bd), [sn:5 [bd sn:3]], [[bd sn:3] bd], <sn:6 [bd sn:3], <sn:6*4, sn:6*2 ~, sn:6*2 [sn:6 ~]>>)\")\n",
    "c2 = read(\"(bd:2*2, [bd:3 bd:3] bd) [sn:5 [bd sn:3]] [[bd sn:3] bd] <sn:6 [bd sn:3], <sn:6*4, sn:6*2 ~, sn:6*2 [sn:6 ~]>>\", 4)\n",
    "d = read(\"{~ ~, bin ~ bin ~}\")\n",
    "e = read(\"{[bin <bin:1, bin, bin*2> bin bot, hc <hc, ho>], bd sn:3}\")\n",
    "f = read(\"ht <ht, lt*2> bd\")\n",
    "g = read(\"\", 2)"
   ]
  },
  {
   "cell_type": "code",
   "execution_count": null,
   "metadata": {
    "collapsed": false
   },
   "outputs": [],
   "source": [
    "lp.scales"
   ]
  },
  {
   "cell_type": "code",
   "execution_count": 21,
   "metadata": {
    "collapsed": false
   },
   "outputs": [],
   "source": [
    "lp.sendScene(0)"
   ]
  },
  {
   "cell_type": "code",
   "execution_count": 18,
   "metadata": {
    "collapsed": false
   },
   "outputs": [],
   "source": [
    "lp.scenes[0] = (copy.deepcopy(lp.loops), copy.deepcopy(lp.loopInfo))\n"
   ]
  },
  {
   "cell_type": "code",
   "execution_count": null,
   "metadata": {
    "collapsed": false
   },
   "outputs": [],
   "source": [
    "st = '69 0.49950693402567,80,101,1,on-0.12300503053356,80,0,1,off-0.37064133602195,75,98,1,on-0.10712906254986,75,0,1,off-0.36297831440561,75,103,1,on-0.090360763184094,75,0,1,off-0.40264527718247,75,108,1,on-0.098848608124257,75,0,1,off-0.39581608216994,75,103,1,on-0.074119008398242,75,0,1,off-0.41079760461554,75,111,1,on-0.073419676461185,75,0,1,off-0.41209621156585,75,112,1,on-0.12404576558649,75,0,1,off-0.45459032517527,0,0,0,timeAfterLastHit 216'\n",
    "for s in st.split('-'):\n",
    "    print s"
   ]
  },
  {
   "cell_type": "code",
   "execution_count": null,
   "metadata": {
    "collapsed": false,
    "scrolled": true
   },
   "outputs": [],
   "source": [
    "for s in lp.loops[1][1]:\n",
    "    print s"
   ]
  },
  {
   "cell_type": "code",
   "execution_count": null,
   "metadata": {
    "collapsed": false
   },
   "outputs": [],
   "source": [
    "lp.loops"
   ]
  },
  {
   "cell_type": "code",
   "execution_count": null,
   "metadata": {
    "collapsed": false
   },
   "outputs": [],
   "source": [
    "lp.startChannel(1, lambda buf: fh.randTranspose(buf, lp.roots[2], lp.scales[2]), lp.loops[2][0])"
   ]
  },
  {
   "cell_type": "code",
   "execution_count": null,
   "metadata": {
    "collapsed": false
   },
   "outputs": [],
   "source": [
    "lp.stopChannel(1)"
   ]
  }
 ],
 "metadata": {
  "kernelspec": {
   "display_name": "Python 2",
   "language": "python",
   "name": "python2"
  },
  "language_info": {
   "codemirror_mode": {
    "name": "ipython",
    "version": 2
   },
   "file_extension": ".py",
   "mimetype": "text/x-python",
   "name": "python",
   "nbconvert_exporter": "python",
   "pygments_lexer": "ipython2",
   "version": "2.7.10"
  }
 },
 "nbformat": 4,
 "nbformat_minor": 0
}
