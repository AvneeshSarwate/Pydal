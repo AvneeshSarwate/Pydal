{
 "cells": [
  {
   "cell_type": "code",
   "execution_count": 1,
   "metadata": {
    "collapsed": false
   },
   "outputs": [],
   "source": [
    "from fh import FH \n",
    "import fh\n",
    "from treeBuilder import TreeBuilder as TB\n",
    "\n",
    "launchpad = FH()\n",
    "oneHitShift = fh.oneHitShift\n"
   ]
  },
  {
   "cell_type": "code",
   "execution_count": 2,
   "metadata": {
    "collapsed": true
   },
   "outputs": [],
   "source": [
    "tree = TB(launchpad.loops[1][0], oneHitShift)\n",
    "tree.execute('\\/! >! \\/! >! ^ > \\/! >!')"
   ]
  },
  {
   "cell_type": "code",
   "execution_count": 3,
   "metadata": {
    "collapsed": false
   },
   "outputs": [],
   "source": [
    "levels = tree.nodesByDepth()"
   ]
  },
  {
   "cell_type": "code",
   "execution_count": 5,
   "metadata": {
    "collapsed": false
   },
   "outputs": [],
   "source": [
    "launchpad.sendLoop(1, levels[2][3])"
   ]
  },
  {
   "cell_type": "code",
   "execution_count": 5,
   "metadata": {
    "collapsed": false
   },
   "outputs": [
    {
     "name": "stdout",
     "output_type": "stream",
     "text": [
      "[[0.057762334983366, 83, 118, 1, 'on'], [0.00024293482437443, 76, 91, 1, 'on'], [0.082533884264507, 81, 0, 1, 'off'], [0.24809157037708, 83, 0, 1, 'off'], [0.0712961054701, 76, 0, 1, 'off'], [0.37704434152149, 76, 77, 1, 'on'], [0.010687185106466, 83, 119, 1, 'on'], [0.27165694407822, 83, 0, 1, 'off'], [0.035581230184945, 76, 0, 1, 'off'], [0.36663700153851, 83, 118, 1, 'on'], [0.00032580002709182, 76, 94, 1, 'on'], [0.58935236854837, 76, 0, 1, 'off'], [0.059231951611409, 83, 0, 1, 'off'], [0.22499043065483, 74, 93, 1, 'on'], [0.023146925208987, 81, 109, 1, 'on'], [0.4727150891661, 74, 0, 1, 'off'], [0.36637844421545, 74, 105, 1, 'on'], [0.22599937390734, 73, 96, 1, 'on'], [0.011513356870445, 80, 116, 1, 'on'], [0.43541954952143, 80, 0, 1, 'off'], [0.011304346089663, 73, 0, 1, 'off'], [0.43700392072313, 73, 99, 1, 'on'], [0.35498660897058, 73, 0, 1, 'off'], [0.012045902009394, 80, 121, 1, 'on'], [0.011982031831458, 80, 0, 1, 'off'], [0.011962404316829, 81, 120, 1, 'on'], [0.23560948757148, 74, 0, 1, 'off'], [0.059402588330869, 81, 0, 1, 'off'], [0.00027876989077669, 76, 114, 1, 'on'], [0.61389742155313, 83, 0, 1, 'off'], [0.023046289301, 76, 0, 1, 'off'], [0.23642052249858, 83, 123, 1, 'on'], [0.012251199171327, 76, 114, 1, 'on'], [0.38942481257768, 83, 120, 1, 'on'], [0.33046705208247, 76, 0, 1, 'off'], [0.02352186066004, 83, 0, 1, 'off'], [0.23654041094507, 83, 120, 1, 'on'], [0.00025928016856369, 76, 120, 1, 'on'], [0.5436420419493, 76, 0, 1, 'off'], [0.012086345216019, 83, 0, 1, 'off'], [0.51325988206212, 0, 0, 0, 'timeAfterLastHit']]\n"
     ]
    }
   ],
   "source": [
    "print levels[2][3]"
   ]
  }
 ],
 "metadata": {
  "kernelspec": {
   "display_name": "Python 2",
   "language": "python",
   "name": "python2"
  },
  "language_info": {
   "codemirror_mode": {
    "name": "ipython",
    "version": 2
   },
   "file_extension": ".py",
   "mimetype": "text/x-python",
   "name": "python",
   "nbconvert_exporter": "python",
   "pygments_lexer": "ipython2",
   "version": "2.7.10"
  }
 },
 "nbformat": 4,
 "nbformat_minor": 0
}
