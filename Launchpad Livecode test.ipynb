{
 "cells": [
  {
   "cell_type": "code",
   "execution_count": 1,
   "metadata": {
    "collapsed": false
   },
   "outputs": [],
   "source": [
    "from fh import FH \n",
    "import fh\n",
    "from treeBuilder import TreeBuilder as TB\n",
    "\n",
    "launchpad = FH()\n",
    "oneHitShift = fh.oneHitShift\n"
   ]
  },
  {
   "cell_type": "code",
   "execution_count": 2,
   "metadata": {
    "collapsed": true
   },
   "outputs": [],
   "source": [
    "tree = TB(launchpad.loops[1][0], oneHitShift)\n",
    "tree.execute('\\/! >! \\/! >! ^ > \\/! >!')"
   ]
  },
  {
   "cell_type": "code",
   "execution_count": 3,
   "metadata": {
    "collapsed": false
   },
   "outputs": [],
   "source": [
    "levels = tree.nodesByDepth()"
   ]
  },
  {
   "cell_type": "code",
   "execution_count": 9,
   "metadata": {
    "collapsed": false
   },
   "outputs": [],
   "source": [
    "launchpad.sendLoop(1, levels[2][3])"
   ]
  },
  {
   "cell_type": "code",
   "execution_count": 8,
   "metadata": {
    "collapsed": false
   },
   "outputs": [
    {
     "name": "stdout",
     "output_type": "stream",
     "text": [
      "[[1.0768723116334, 73, 95, 1, 'on'], [0.48063412086797, 74, 109, 1, 'on'], [0.52118065297555, 74, 0, 1, 'off'], [0.49411606547419, 76, 95, 1, 'on'], [0.32001933586993, 78, 0, 1, 'off'], [0.44058297692795, 73, 0, 1, 'off'], [0.45301807879927, 78, 103, 1, 'on'], [0.44243295097753, 76, 0, 1, 'off'], [0.77114350647423, 0, 0, 0, 'timeAfterLastHit']]\n"
     ]
    }
   ],
   "source": [
    "print levels[2][3]"
   ]
  }
 ],
 "metadata": {
  "kernelspec": {
   "display_name": "Python 2",
   "language": "python",
   "name": "python2"
  },
  "language_info": {
   "codemirror_mode": {
    "name": "ipython",
    "version": 2
   },
   "file_extension": ".py",
   "mimetype": "text/x-python",
   "name": "python",
   "nbconvert_exporter": "python",
   "pygments_lexer": "ipython2",
   "version": "2.7.10"
  }
 },
 "nbformat": 4,
 "nbformat_minor": 0
}
