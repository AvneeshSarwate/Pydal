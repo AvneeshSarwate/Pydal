{
 "cells": [
  {
   "cell_type": "code",
   "execution_count": 1,
   "metadata": {},
   "outputs": [],
   "source": [
    "import PydalChanel as pydalModule\n",
    "\n",
    "\n",
    "read = pydalModule.read\n",
    "pydal = pydalModule.getPydalInstance()\n",
    "\n",
    "ch1 = pydal.newChannel(1)\n",
    "ch2 = pydal.newChannel(2)\n",
    "ch3 = pydal.newChannel(3)\n",
    "ch4 = pydal.newChannel(4)\n",
    "ch5 = pydal.newChannel(5)"
   ]
  },
  {
   "cell_type": "code",
   "execution_count": 3,
   "metadata": {},
   "outputs": [],
   "source": [
    "b = read(\"{bd:1 bd:3*2 ~, [bd:3*2, bd:4] ~ ~ bd:2 ~}\")\n",
    "a = read(\"[bd bd bd, bin <bin, sn:2>]\")\n",
    "c = read(\"bd {sn:3 sn:3, ht lt ht} hc\")\n",
    "d = read(\"[a a a <b, e c e e, d>]*4\")\n",
    "ch1.play(a)"
   ]
  },
  {
   "cell_type": "code",
   "execution_count": null,
   "metadata": {
    "collapsed": true
   },
   "outputs": [],
   "source": [
    "ch1.stop()"
   ]
  }
 ],
 "metadata": {
  "kernelspec": {
   "display_name": "Python 2",
   "language": "python",
   "name": "python2"
  },
  "language_info": {
   "codemirror_mode": {
    "name": "ipython",
    "version": 2
   },
   "file_extension": ".py",
   "mimetype": "text/x-python",
   "name": "python",
   "nbconvert_exporter": "python",
   "pygments_lexer": "ipython2",
   "version": "2.7.13"
  }
 },
 "nbformat": 4,
 "nbformat_minor": 1
}
